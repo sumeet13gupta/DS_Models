{
 "metadata": {
  "language_info": {
   "codemirror_mode": {
    "name": "ipython",
    "version": 3
   },
   "file_extension": ".py",
   "mimetype": "text/x-python",
   "name": "python",
   "nbconvert_exporter": "python",
   "pygments_lexer": "ipython3",
   "version": "3.8.5-final"
  },
  "orig_nbformat": 2,
  "kernelspec": {
   "name": "python3",
   "display_name": "Python 3.8.5 64-bit",
   "metadata": {
    "interpreter": {
     "hash": "2db524e06e9f5f4ffedc911c917cb75e12dbc923643829bf417064a77eb14d37"
    }
   }
  }
 },
 "nbformat": 4,
 "nbformat_minor": 2,
 "cells": [
  {
   "cell_type": "code",
   "execution_count": 1,
   "metadata": {},
   "outputs": [],
   "source": [
    "import pandas as pd\n",
    "import numpy as np\n",
    "import matplotlib.pyplot as plt\n",
    "%matplotlib inline\n"
   ]
  },
  {
   "cell_type": "code",
   "execution_count": 2,
   "metadata": {},
   "outputs": [
    {
     "output_type": "execute_result",
     "data": {
      "text/plain": [
       "(8523, 12)"
      ]
     },
     "metadata": {},
     "execution_count": 2
    }
   ],
   "source": [
    "data = pd.read_csv(\"train.csv\")\n",
    "data.shape"
   ]
  },
  {
   "cell_type": "code",
   "execution_count": 3,
   "metadata": {},
   "outputs": [
    {
     "output_type": "execute_result",
     "data": {
      "text/plain": [
       "  Item_Identifier  Item_Weight Item_Fat_Content  Item_Visibility  \\\n",
       "0           FDA15         9.30          Low Fat         0.016047   \n",
       "1           DRC01         5.92          Regular         0.019278   \n",
       "2           FDN15        17.50          Low Fat         0.016760   \n",
       "3           FDX07        19.20          Regular         0.000000   \n",
       "4           NCD19         8.93          Low Fat         0.000000   \n",
       "\n",
       "               Item_Type  Item_MRP Outlet_Identifier  \\\n",
       "0                  Dairy  249.8092            OUT049   \n",
       "1            Soft Drinks   48.2692            OUT018   \n",
       "2                   Meat  141.6180            OUT049   \n",
       "3  Fruits and Vegetables  182.0950            OUT010   \n",
       "4              Household   53.8614            OUT013   \n",
       "\n",
       "   Outlet_Establishment_Year Outlet_Size Outlet_Location_Type  \\\n",
       "0                       1999      Medium               Tier 1   \n",
       "1                       2009      Medium               Tier 3   \n",
       "2                       1999      Medium               Tier 1   \n",
       "3                       1998         NaN               Tier 3   \n",
       "4                       1987        High               Tier 3   \n",
       "\n",
       "         Outlet_Type  Item_Outlet_Sales  \n",
       "0  Supermarket Type1          3735.1380  \n",
       "1  Supermarket Type2           443.4228  \n",
       "2  Supermarket Type1          2097.2700  \n",
       "3      Grocery Store           732.3800  \n",
       "4  Supermarket Type1           994.7052  "
      ],
      "text/html": "<div>\n<style scoped>\n    .dataframe tbody tr th:only-of-type {\n        vertical-align: middle;\n    }\n\n    .dataframe tbody tr th {\n        vertical-align: top;\n    }\n\n    .dataframe thead th {\n        text-align: right;\n    }\n</style>\n<table border=\"1\" class=\"dataframe\">\n  <thead>\n    <tr style=\"text-align: right;\">\n      <th></th>\n      <th>Item_Identifier</th>\n      <th>Item_Weight</th>\n      <th>Item_Fat_Content</th>\n      <th>Item_Visibility</th>\n      <th>Item_Type</th>\n      <th>Item_MRP</th>\n      <th>Outlet_Identifier</th>\n      <th>Outlet_Establishment_Year</th>\n      <th>Outlet_Size</th>\n      <th>Outlet_Location_Type</th>\n      <th>Outlet_Type</th>\n      <th>Item_Outlet_Sales</th>\n    </tr>\n  </thead>\n  <tbody>\n    <tr>\n      <th>0</th>\n      <td>FDA15</td>\n      <td>9.30</td>\n      <td>Low Fat</td>\n      <td>0.016047</td>\n      <td>Dairy</td>\n      <td>249.8092</td>\n      <td>OUT049</td>\n      <td>1999</td>\n      <td>Medium</td>\n      <td>Tier 1</td>\n      <td>Supermarket Type1</td>\n      <td>3735.1380</td>\n    </tr>\n    <tr>\n      <th>1</th>\n      <td>DRC01</td>\n      <td>5.92</td>\n      <td>Regular</td>\n      <td>0.019278</td>\n      <td>Soft Drinks</td>\n      <td>48.2692</td>\n      <td>OUT018</td>\n      <td>2009</td>\n      <td>Medium</td>\n      <td>Tier 3</td>\n      <td>Supermarket Type2</td>\n      <td>443.4228</td>\n    </tr>\n    <tr>\n      <th>2</th>\n      <td>FDN15</td>\n      <td>17.50</td>\n      <td>Low Fat</td>\n      <td>0.016760</td>\n      <td>Meat</td>\n      <td>141.6180</td>\n      <td>OUT049</td>\n      <td>1999</td>\n      <td>Medium</td>\n      <td>Tier 1</td>\n      <td>Supermarket Type1</td>\n      <td>2097.2700</td>\n    </tr>\n    <tr>\n      <th>3</th>\n      <td>FDX07</td>\n      <td>19.20</td>\n      <td>Regular</td>\n      <td>0.000000</td>\n      <td>Fruits and Vegetables</td>\n      <td>182.0950</td>\n      <td>OUT010</td>\n      <td>1998</td>\n      <td>NaN</td>\n      <td>Tier 3</td>\n      <td>Grocery Store</td>\n      <td>732.3800</td>\n    </tr>\n    <tr>\n      <th>4</th>\n      <td>NCD19</td>\n      <td>8.93</td>\n      <td>Low Fat</td>\n      <td>0.000000</td>\n      <td>Household</td>\n      <td>53.8614</td>\n      <td>OUT013</td>\n      <td>1987</td>\n      <td>High</td>\n      <td>Tier 3</td>\n      <td>Supermarket Type1</td>\n      <td>994.7052</td>\n    </tr>\n  </tbody>\n</table>\n</div>"
     },
     "metadata": {},
     "execution_count": 3
    }
   ],
   "source": [
    "data.head()\n"
   ]
  },
  {
   "cell_type": "code",
   "execution_count": 4,
   "metadata": {},
   "outputs": [
    {
     "output_type": "execute_result",
     "data": {
      "text/plain": [
       "(8523, 1605)"
      ]
     },
     "metadata": {},
     "execution_count": 4
    }
   ],
   "source": [
    "data = pd.get_dummies(data)    #because the data has dependent variables which are categorical in nature\n",
    "data.shape"
   ]
  },
  {
   "cell_type": "code",
   "execution_count": 22,
   "metadata": {},
   "outputs": [],
   "source": [
    "train = data[0:7999]    # train data set is first 8000 rowsout of total 8523 rows\n",
    "test = data[8000:]"
   ]
  },
  {
   "cell_type": "code",
   "execution_count": 24,
   "metadata": {},
   "outputs": [
    {
     "output_type": "execute_result",
     "data": {
      "text/plain": [
       "   Item_Weight  Item_Visibility  Item_MRP  Outlet_Establishment_Year  \\\n",
       "0         9.30         0.016047  249.8092                       1999   \n",
       "1         5.92         0.019278   48.2692                       2009   \n",
       "2        17.50         0.016760  141.6180                       1999   \n",
       "3        19.20         0.000000  182.0950                       1998   \n",
       "4         8.93         0.000000   53.8614                       1987   \n",
       "\n",
       "   Item_Identifier_DRA12  Item_Identifier_DRA24  Item_Identifier_DRA59  \\\n",
       "0                      0                      0                      0   \n",
       "1                      0                      0                      0   \n",
       "2                      0                      0                      0   \n",
       "3                      0                      0                      0   \n",
       "4                      0                      0                      0   \n",
       "\n",
       "   Item_Identifier_DRB01  Item_Identifier_DRB13  Item_Identifier_DRB24  ...  \\\n",
       "0                      0                      0                      0  ...   \n",
       "1                      0                      0                      0  ...   \n",
       "2                      0                      0                      0  ...   \n",
       "3                      0                      0                      0  ...   \n",
       "4                      0                      0                      0  ...   \n",
       "\n",
       "   Outlet_Size_High  Outlet_Size_Medium  Outlet_Size_Small  \\\n",
       "0                 0                   1                  0   \n",
       "1                 0                   1                  0   \n",
       "2                 0                   1                  0   \n",
       "3                 0                   0                  0   \n",
       "4                 1                   0                  0   \n",
       "\n",
       "   Outlet_Location_Type_Tier 1  Outlet_Location_Type_Tier 2  \\\n",
       "0                            1                            0   \n",
       "1                            0                            0   \n",
       "2                            1                            0   \n",
       "3                            0                            0   \n",
       "4                            0                            0   \n",
       "\n",
       "   Outlet_Location_Type_Tier 3  Outlet_Type_Grocery Store  \\\n",
       "0                            0                          0   \n",
       "1                            1                          0   \n",
       "2                            0                          0   \n",
       "3                            1                          1   \n",
       "4                            1                          0   \n",
       "\n",
       "   Outlet_Type_Supermarket Type1  Outlet_Type_Supermarket Type2  \\\n",
       "0                              1                              0   \n",
       "1                              0                              1   \n",
       "2                              1                              0   \n",
       "3                              0                              0   \n",
       "4                              1                              0   \n",
       "\n",
       "   Outlet_Type_Supermarket Type3  \n",
       "0                              0  \n",
       "1                              0  \n",
       "2                              0  \n",
       "3                              0  \n",
       "4                              0  \n",
       "\n",
       "[5 rows x 1604 columns]"
      ],
      "text/html": "<div>\n<style scoped>\n    .dataframe tbody tr th:only-of-type {\n        vertical-align: middle;\n    }\n\n    .dataframe tbody tr th {\n        vertical-align: top;\n    }\n\n    .dataframe thead th {\n        text-align: right;\n    }\n</style>\n<table border=\"1\" class=\"dataframe\">\n  <thead>\n    <tr style=\"text-align: right;\">\n      <th></th>\n      <th>Item_Weight</th>\n      <th>Item_Visibility</th>\n      <th>Item_MRP</th>\n      <th>Outlet_Establishment_Year</th>\n      <th>Item_Identifier_DRA12</th>\n      <th>Item_Identifier_DRA24</th>\n      <th>Item_Identifier_DRA59</th>\n      <th>Item_Identifier_DRB01</th>\n      <th>Item_Identifier_DRB13</th>\n      <th>Item_Identifier_DRB24</th>\n      <th>...</th>\n      <th>Outlet_Size_High</th>\n      <th>Outlet_Size_Medium</th>\n      <th>Outlet_Size_Small</th>\n      <th>Outlet_Location_Type_Tier 1</th>\n      <th>Outlet_Location_Type_Tier 2</th>\n      <th>Outlet_Location_Type_Tier 3</th>\n      <th>Outlet_Type_Grocery Store</th>\n      <th>Outlet_Type_Supermarket Type1</th>\n      <th>Outlet_Type_Supermarket Type2</th>\n      <th>Outlet_Type_Supermarket Type3</th>\n    </tr>\n  </thead>\n  <tbody>\n    <tr>\n      <th>0</th>\n      <td>9.30</td>\n      <td>0.016047</td>\n      <td>249.8092</td>\n      <td>1999</td>\n      <td>0</td>\n      <td>0</td>\n      <td>0</td>\n      <td>0</td>\n      <td>0</td>\n      <td>0</td>\n      <td>...</td>\n      <td>0</td>\n      <td>1</td>\n      <td>0</td>\n      <td>1</td>\n      <td>0</td>\n      <td>0</td>\n      <td>0</td>\n      <td>1</td>\n      <td>0</td>\n      <td>0</td>\n    </tr>\n    <tr>\n      <th>1</th>\n      <td>5.92</td>\n      <td>0.019278</td>\n      <td>48.2692</td>\n      <td>2009</td>\n      <td>0</td>\n      <td>0</td>\n      <td>0</td>\n      <td>0</td>\n      <td>0</td>\n      <td>0</td>\n      <td>...</td>\n      <td>0</td>\n      <td>1</td>\n      <td>0</td>\n      <td>0</td>\n      <td>0</td>\n      <td>1</td>\n      <td>0</td>\n      <td>0</td>\n      <td>1</td>\n      <td>0</td>\n    </tr>\n    <tr>\n      <th>2</th>\n      <td>17.50</td>\n      <td>0.016760</td>\n      <td>141.6180</td>\n      <td>1999</td>\n      <td>0</td>\n      <td>0</td>\n      <td>0</td>\n      <td>0</td>\n      <td>0</td>\n      <td>0</td>\n      <td>...</td>\n      <td>0</td>\n      <td>1</td>\n      <td>0</td>\n      <td>1</td>\n      <td>0</td>\n      <td>0</td>\n      <td>0</td>\n      <td>1</td>\n      <td>0</td>\n      <td>0</td>\n    </tr>\n    <tr>\n      <th>3</th>\n      <td>19.20</td>\n      <td>0.000000</td>\n      <td>182.0950</td>\n      <td>1998</td>\n      <td>0</td>\n      <td>0</td>\n      <td>0</td>\n      <td>0</td>\n      <td>0</td>\n      <td>0</td>\n      <td>...</td>\n      <td>0</td>\n      <td>0</td>\n      <td>0</td>\n      <td>0</td>\n      <td>0</td>\n      <td>1</td>\n      <td>1</td>\n      <td>0</td>\n      <td>0</td>\n      <td>0</td>\n    </tr>\n    <tr>\n      <th>4</th>\n      <td>8.93</td>\n      <td>0.000000</td>\n      <td>53.8614</td>\n      <td>1987</td>\n      <td>0</td>\n      <td>0</td>\n      <td>0</td>\n      <td>0</td>\n      <td>0</td>\n      <td>0</td>\n      <td>...</td>\n      <td>1</td>\n      <td>0</td>\n      <td>0</td>\n      <td>0</td>\n      <td>0</td>\n      <td>1</td>\n      <td>0</td>\n      <td>1</td>\n      <td>0</td>\n      <td>0</td>\n    </tr>\n  </tbody>\n</table>\n<p>5 rows × 1604 columns</p>\n</div>"
     },
     "metadata": {},
     "execution_count": 24
    }
   ],
   "source": [
    "x_train=train.drop('Item_Outlet_Sales',axis=1)\n",
    "x_train.head()"
   ]
  },
  {
   "cell_type": "code",
   "execution_count": 9,
   "metadata": {},
   "outputs": [
    {
     "output_type": "execute_result",
     "data": {
      "text/plain": [
       "0    3735.1380\n",
       "1     443.4228\n",
       "2    2097.2700\n",
       "3     732.3800\n",
       "4     994.7052\n",
       "Name: Item_Outlet_Sales, dtype: float64"
      ]
     },
     "metadata": {},
     "execution_count": 9
    }
   ],
   "source": [
    "y_train=train['Item_Outlet_Sales']\n",
    "y_train.head()"
   ]
  },
  {
   "cell_type": "code",
   "execution_count": 25,
   "metadata": {},
   "outputs": [],
   "source": [
    "x_test=test.drop('Item_Outlet_Sales',axis=1)"
   ]
  },
  {
   "cell_type": "code",
   "execution_count": 26,
   "metadata": {},
   "outputs": [],
   "source": [
    "true_p=test['Item_Outlet_Sales']\n"
   ]
  },
  {
   "cell_type": "code",
   "execution_count": 27,
   "metadata": {},
   "outputs": [],
   "source": [
    "from sklearn.linear_model import LinearRegression\n"
   ]
  },
  {
   "cell_type": "code",
   "execution_count": 28,
   "metadata": {},
   "outputs": [],
   "source": [
    "lreg=LinearRegression()\n"
   ]
  },
  {
   "cell_type": "code",
   "execution_count": 34,
   "metadata": {},
   "outputs": [
    {
     "output_type": "execute_result",
     "data": {
      "text/plain": [
       "LinearRegression()"
      ]
     },
     "metadata": {},
     "execution_count": 34
    }
   ],
   "source": [
    "lreg.fit(x_train,y_train)"
   ]
  },
  {
   "cell_type": "code",
   "execution_count": 35,
   "metadata": {},
   "outputs": [],
   "source": [
    "x_train.fillna(0,inplace=True)                #this will alter the x_train data and fill all N/A with 0"
   ]
  },
  {
   "cell_type": "code",
   "execution_count": 36,
   "metadata": {},
   "outputs": [],
   "source": [
    "x_test.fillna(0,inplace=True)"
   ]
  },
  {
   "cell_type": "code",
   "execution_count": 39,
   "metadata": {},
   "outputs": [
    {
     "output_type": "stream",
     "name": "stdout",
     "text": [
      "[ 2.41052344e+03  3.88575000e+03  3.84842969e+03  2.06954688e+03\n  4.75831250e+03  2.99305469e+03  1.88032812e+03  2.50896875e+03\n  3.52321094e+03  5.33664844e+03  4.86765625e+03  1.09854688e+03\n  4.14067188e+03  9.34429688e+02  1.68447656e+03  9.36960938e+02\n  5.47953125e+02  9.30695312e+02  3.47781250e+03  2.22794531e+03\n  1.97963281e+03  2.18414062e+03  3.80888281e+03  5.37306250e+03\n  1.22048438e+03 -8.61375000e+02  2.55790625e+03  2.56374219e+03\n  5.03445312e+03  4.20785938e+03  6.31062500e+02  3.02968750e+02\n  1.03375781e+03  1.53647656e+03  1.45201562e+03  2.63214062e+03\n  2.90679688e+03  1.39687500e+03  6.18984375e+02  4.81769531e+03\n  2.93454688e+03  1.06410938e+03  3.66101562e+03  2.41281250e+02\n  3.44690625e+03  1.88311719e+03  3.14803906e+03  2.58990625e+03\n  7.98242188e+02  6.26812500e+02  5.48757812e+03  2.34234375e+03\n  2.47428906e+03  2.26260938e+03  1.15484375e+02  2.93829688e+03\n  2.45793750e+03  1.60157812e+03  7.84078125e+02  3.79824219e+03\n  1.99875000e+02  2.84028125e+03  2.48733594e+03 -4.35031250e+02\n  4.87108594e+03  2.57642188e+03  2.71070312e+03  2.96471094e+03\n  2.10492969e+03  2.60464844e+03  2.01013281e+03  2.05068750e+03\n  3.35422656e+03  2.11678906e+03  2.79647656e+03  2.88995312e+03\n  2.27482812e+03  1.87313281e+03  3.08570312e+03  2.46680469e+03\n  2.63431250e+03  1.70565625e+03  2.05056250e+03  2.95859375e+03\n  2.86807812e+03  1.82908594e+03  4.25096875e+03  3.89747656e+03\n  1.83551562e+03  3.17918750e+03 -7.44015625e+02  7.18484375e+02\n  1.45203125e+03  1.06254688e+03 -5.07187500e+02  3.02101562e+03\n  1.17095312e+03  8.64070312e+02  4.29881250e+03  4.49662500e+03\n  3.01217969e+03  4.95949219e+03  2.93541406e+03  4.26562500e+00\n  2.33297656e+03  1.74803125e+03  7.95046875e+02  5.63062500e+02\n  1.51131250e+03  3.41450000e+03 -9.90484375e+02  9.90492188e+02\n  1.51258594e+03  2.56035938e+03  1.32792188e+03  9.59742188e+02\n -1.14906250e+03  4.09341406e+03  9.33726562e+02  1.73411719e+03\n  2.41625000e+03  3.51531250e+02  1.48356250e+03  3.24340625e+03\n  1.09359375e+03  4.76334375e+03  2.38295312e+03  3.82734375e+03\n  3.77350781e+03  2.63617969e+03  1.55597656e+03  4.37181250e+03\n  2.18964844e+03  6.20296875e+02  1.07476562e+03  5.69460938e+02\n  4.25198438e+03  2.28386719e+03  2.81989062e+03  1.87964062e+03\n  8.39898438e+02  6.57625000e+02  3.02678125e+03  1.46535938e+03\n  4.01489844e+03  2.39089062e+03  4.76241406e+03  3.27760938e+03\n  3.69816406e+03  2.11193750e+03  1.15780469e+03  1.88148438e+03\n -9.03156250e+02  3.94269531e+03  4.27065625e+03  4.93109375e+02\n  1.14870312e+03  2.58890625e+03  2.14634375e+03  2.06870312e+03\n  2.75340625e+03  3.77136719e+03  8.88320312e+02  4.73617188e+03\n  2.90292188e+03  5.41579688e+03  4.97484375e+02  2.55814844e+03\n  1.13255469e+03  2.67392969e+03  4.94145312e+03  1.98511719e+03\n  3.84532031e+03  1.27120312e+03  3.30562500e+03  4.55737500e+03\n  1.62996875e+03  6.01133594e+03  5.07705469e+03  1.20340625e+03\n  2.67529688e+03  2.84378125e+03  2.03162500e+03  1.47061719e+03\n  3.85837500e+03  1.94307031e+03  3.71221875e+03  1.46252344e+03\n  1.94789062e+03  1.15649219e+03  2.93562500e+03  1.22158594e+03\n  2.19085938e+03  2.20489844e+03  2.48140625e+02  2.23232031e+03\n  2.64324219e+03  1.56485156e+03  5.72379688e+03  5.17356250e+03\n  3.12052344e+03  5.06012500e+03  1.44035156e+03  2.01080469e+03\n  4.72484375e+02  1.17153906e+03  5.93593750e+02  2.90039062e+03\n  4.37852344e+03  1.51494531e+03  4.97468750e+03  1.98777344e+03\n  2.97491406e+03  1.58195312e+03  2.19556250e+03  1.90884375e+03\n  2.73556250e+03  3.33417188e+03  1.77975000e+03  1.53636719e+03\n  1.98178906e+03  1.84759375e+03  3.46158594e+03  1.28158594e+03\n  4.49842969e+03  2.31782812e+03  3.06164062e+02  6.50242188e+02\n  1.38200000e+03  2.68410156e+03  3.61453125e+02  3.34478906e+03\n  2.95339844e+03  1.95116406e+03 -6.25625000e+01  5.73515625e+02\n  2.60573438e+03 -1.14156250e+02  1.45040625e+03 -1.94704688e+03\n  1.20644531e+03 -1.21267188e+03  1.69537500e+03  3.74806250e+03\n  5.45163281e+03  5.07832031e+03  1.77367188e+03  1.47560938e+03\n  3.32601562e+02  4.23015625e+03  2.18821875e+03  5.61975000e+03\n  3.36980469e+03  1.04040625e+03  2.06848438e+03  2.06505469e+03\n  1.74360938e+03  1.85770312e+03  1.46192188e+03  9.68007812e+02\n  1.12558594e+03  2.72917188e+03  2.01757031e+03  3.39964062e+03\n  3.70677344e+03  2.60492188e+03  7.14125000e+02  3.41952344e+03\n  1.05828125e+03 -9.68765625e+02  2.33434375e+03  2.30640625e+03\n  1.77450781e+03  8.93265625e+02  3.78643750e+03  1.62571094e+03\n  1.32639062e+03  6.88742188e+02  3.42378906e+03  3.08788281e+03\n  3.13875000e+03  4.53869531e+03  2.45048438e+03  1.47808594e+03\n  4.58906250e+01  2.27374219e+03  1.70939844e+03  6.99328125e+02\n  3.07406250e+02  1.64118750e+03  8.18164062e+02  4.21359375e+02\n  1.46453125e+03  1.30213281e+03  1.47090625e+03  3.65351562e+03\n -8.99156250e+02  1.72287500e+03  1.32196094e+03  2.33782031e+03\n  1.30240625e+03  4.20353125e+03  1.46124219e+03  3.88156250e+03\n  3.78117969e+03  3.21259375e+03  1.62917969e+03  9.62523438e+02\n  4.20129688e+03  2.45692969e+03  2.26254688e+03  2.23600781e+03\n  5.07635156e+03  2.33667969e+03  9.76203125e+02  2.23093750e+03\n  1.34706250e+03  1.31404688e+03  1.27643750e+03  4.00954688e+03\n  2.78695312e+03  3.85739844e+03  5.88667969e+03  2.13496875e+03\n  1.90228906e+03  7.34703125e+02  2.87539062e+03  2.98251562e+03\n  3.28170312e+03  5.21914062e+03  1.26943750e+03  4.71811719e+03\n  7.96500000e+02  1.57742188e+03  1.48569531e+03  1.07966406e+03\n  1.34578125e+02  8.88125000e+02  1.75252344e+03  2.26503125e+03\n  2.75002344e+03  1.55376562e+03  4.01874219e+03  1.88128125e+03\n  3.99573438e+03  2.07590625e+03  2.63232031e+03  1.54313281e+03\n  9.82273438e+02  3.38901562e+03  3.82972656e+03  4.27331250e+03\n  6.32437500e+02  1.27850000e+03  2.79709375e+03  2.37574219e+03\n  4.74204688e+03  2.12279688e+03 -1.92187500e+02  3.75781250e+00\n  3.85744531e+03  2.95447656e+03  4.39221875e+03  2.83296875e+03\n  1.95974219e+03  2.52015625e+02  6.60929688e+02  1.23948438e+03\n  2.55617188e+03  2.30136719e+03  2.68359375e+03  1.06601562e+03\n  2.64223438e+03  2.72990625e+03  7.67710938e+02  3.49389062e+03\n  4.91477344e+03  2.42293750e+03  1.84379688e+03  3.05966406e+03\n  4.04992188e+03  3.20518750e+03  2.07797656e+03  5.09662500e+03\n  8.29554688e+02  1.67071875e+03  8.88882812e+02  1.06916406e+03\n  1.93652344e+03  1.73090625e+03  7.66953125e+02  1.78989844e+03\n  1.66927344e+03  4.37804688e+02  1.82365625e+03  2.46280469e+03\n  1.17253125e+03  7.91296875e+02  1.41702344e+03 -9.51500000e+02\n -3.38718750e+02  1.52486719e+03  2.13329688e+03  4.56079688e+03\n -3.61390625e+02 -5.68437500e+02  1.50893750e+03  2.76973438e+03\n  4.75453125e+03  2.60699219e+03  3.66700781e+03  3.43153906e+03\n  3.03679688e+03  1.59079688e+03  1.77836719e+03  2.40618750e+03\n  9.57320312e+02  8.23562500e+02  8.80828125e+02  2.40090625e+03\n  1.40955469e+03  2.23607812e+03  2.11235938e+03  3.51090625e+03\n  3.62672656e+03  2.24431250e+03  2.98642969e+03  1.19649219e+03\n  2.57405469e+03  2.94375781e+03  2.31778125e+03  9.65726562e+02\n -1.02668750e+03  2.67567188e+03  2.34754688e+03  5.02120312e+03\n  9.22078125e+02  1.89167969e+03  2.20129688e+03  1.87700000e+03\n  1.72335938e+03  2.06083594e+03 -9.98625000e+02  1.73150781e+03\n  3.31678125e+03  3.19187500e+02  9.01773438e+02  4.01186719e+03\n  1.26353125e+03  8.82031250e+01  1.36019531e+03  4.34508594e+03\n  2.25911719e+03  4.28200000e+03  4.90593750e+02  2.97302344e+03\n  1.72564844e+03  1.86816406e+03  1.51425000e+03  1.67879688e+03\n  2.35596094e+03  3.37096094e+03  1.09828906e+03  1.94943750e+03\n  1.96181250e+03  3.14821875e+03  3.21171875e+02  1.35791406e+03\n  8.77632812e+02  9.85203125e+02  2.28242969e+03  1.78751562e+03\n  3.77984375e+03  6.60375000e+02  1.33271094e+03  2.31325781e+03\n  1.81864062e+03  3.30584375e+03  2.13548438e+03  1.40482031e+03\n  2.40718750e+02  9.66164062e+02  1.96004688e+03  1.71347656e+03\n  2.03624219e+03  5.33300000e+03 -1.16034375e+03  5.18376562e+03\n  4.01367188e+03  9.48203125e+02  1.00918750e+03  3.31104688e+03\n  1.52496875e+03  3.57549219e+03  1.92205469e+03  2.25175000e+03\n  3.91883594e+03  2.51149219e+03  1.94460938e+03  2.08951562e+03\n  2.42761719e+03  1.50765625e+03  1.65671094e+03  2.43566406e+03\n  4.09728125e+03  4.05464062e+03  2.91457812e+03  1.59471875e+03\n  2.06816406e+03  2.97445312e+03  4.70898438e+03  4.08070312e+03\n  2.01367188e+03  1.62354688e+03  1.10626562e+03  2.30220312e+03\n  1.23490625e+03  3.39493750e+03  3.75713281e+03  2.90101562e+03\n  1.10292188e+03  1.76246875e+03  1.40136719e+03]\n"
     ]
    }
   ],
   "source": [
    "pred=lreg.predict(x_test)\n",
    "print(pred)"
   ]
  },
  {
   "cell_type": "code",
   "execution_count": 40,
   "metadata": {},
   "outputs": [
    {
     "output_type": "execute_result",
     "data": {
      "text/plain": [
       "0.40231874018503044"
      ]
     },
     "metadata": {},
     "execution_count": 40
    }
   ],
   "source": [
    "#performance of model is checked by r^2\n",
    "\n",
    "lreg.score(x_test,true_p)"
   ]
  },
  {
   "cell_type": "code",
   "execution_count": 20,
   "metadata": {},
   "outputs": [
    {
     "output_type": "execute_result",
     "data": {
      "text/plain": [
       "0.6497748988602965"
      ]
     },
     "metadata": {},
     "execution_count": 20
    }
   ],
   "source": [
    "lreg.score(x_train,y_train)"
   ]
  },
  {
   "cell_type": "code",
   "execution_count": 41,
   "metadata": {},
   "outputs": [],
   "source": [
    "rmse_test = np.sqrt(np.mean(np.power((np.array(true_p)-np.array(pred)),2)))"
   ]
  },
  {
   "cell_type": "code",
   "execution_count": 43,
   "metadata": {},
   "outputs": [],
   "source": [
    "rmse_train = np.sqrt(np.mean(np.power((np.array(y_train)-np.array(lreg.predict(x_train))),2)))"
   ]
  },
  {
   "cell_type": "code",
   "execution_count": 44,
   "metadata": {},
   "outputs": [
    {
     "output_type": "stream",
     "name": "stdout",
     "text": [
      "1013.0021467655208\n1255.3486024953413\n"
     ]
    }
   ],
   "source": [
    "print(rmse_train)\n",
    "print(rmse_test)"
   ]
  },
  {
   "cell_type": "code",
   "execution_count": null,
   "metadata": {},
   "outputs": [],
   "source": []
  }
 ]
}